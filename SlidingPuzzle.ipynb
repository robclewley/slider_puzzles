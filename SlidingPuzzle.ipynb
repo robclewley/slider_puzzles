{
 "cells": [
  {
   "cell_type": "code",
   "execution_count": 1,
   "metadata": {},
   "outputs": [],
   "source": [
    "import ipywidgets as widgets\n",
    "from IPython.display import display, HTML\n",
    "\n",
    "import numpy as np"
   ]
  },
  {
   "cell_type": "code",
   "execution_count": 2,
   "metadata": {},
   "outputs": [],
   "source": [
    "def make_HTML_table(data):\n",
    "    table = '<div class=\"rendered_html jp-RenderedHTMLCommon\"><table>\\n'\n",
    "\n",
    "    header = data[0]\n",
    "    table += \"  <tr>\\n\"\n",
    "    for column in header:\n",
    "        table += \"    <th>{0}</th>\\n\".format(column.strip())\n",
    "    table += \"  </tr>\\n\"\n",
    "\n",
    "    for row in data[1:]:\n",
    "        table += \"  <tr>\\n\"\n",
    "        for column in row:\n",
    "            table += \"    <td>{0}</td>\\n\".format(column.strip())\n",
    "        table += \"  </tr>\\n\"\n",
    "\n",
    "    table += \"</table></div>\"\n",
    "    return table"
   ]
  },
  {
   "cell_type": "code",
   "execution_count": 3,
   "metadata": {},
   "outputs": [],
   "source": [
    "_shift_lookup = {'L': (-1, 0),\n",
    "                 'R': (1, 0),\n",
    "                 'U': (0, -1),\n",
    "                 'D': (0, 1)\n",
    "                }\n",
    "\n",
    "class Box():\n",
    "    def __init__(self, x, y):\n",
    "        # dimensions\n",
    "        self.x = x\n",
    "        self.y = y\n",
    "        # TL position\n",
    "        self.i = None\n",
    "        self.j = None\n",
    "        \n",
    "    def all_covered(self, dx=0, dy=0):\n",
    "        xs = np.arange(self.x, dtype=int) + self.i + dx\n",
    "        ys = np.arange(self.y, dtype=int) + self.j + dy\n",
    "        return np.array([(x,y) for x in xs for y in ys])\n",
    "        \n",
    "    def set_pos(self, i, j):\n",
    "        \"\"\"Top left position of box\"\"\"\n",
    "        self.i = i\n",
    "        self.j = j\n",
    "        "
   ]
  },
  {
   "cell_type": "code",
   "execution_count": 31,
   "metadata": {},
   "outputs": [],
   "source": [
    "# based on https://ipywidgets.readthedocs.io/en/stable/examples/Variable%20Inspector.html\n",
    "class Updater():\n",
    "    instance = None\n",
    "\n",
    "    def __init__(self, ipython, dim, box_data):\n",
    "        \"\"\"Public constructor.\"\"\"\n",
    "        if Updater.instance is not None:\n",
    "            raise Exception(\"\"\"Only one instance can exist at a\n",
    "                time.  Call close() on the active instance before creating a new instance.\n",
    "                If you have lost the handle to the active instance, you can re-obtain it\n",
    "                via `Updater.instance`.\"\"\")\n",
    "\n",
    "        Updater.instance = self\n",
    "        self.closed = False\n",
    "\n",
    "        self._box = widgets.Box()\n",
    "        self._box.layout.overflow = 'visible scroll'\n",
    "        self._table = widgets.HTML(value = 'Not hooked')\n",
    "        self._box.children = [self._table]\n",
    "\n",
    "        self._ipython = ipython\n",
    "        self._ipython.events.register('post_run_cell', self._fill)\n",
    "\n",
    "        self.data = np.zeros((dim, dim), dtype=int)\n",
    "        self.dim = dim\n",
    "        self.header = [str(i) for i in range(self.data.shape[0])]\n",
    "        self.boxes = {}\n",
    "        self.intids = {'-': 0}\n",
    "        for intid, (label, x, y, i, j) in enumerate(box_data):\n",
    "            box = Box(x, y)\n",
    "            box.set_pos(i, j)\n",
    "            self.boxes[label] = box\n",
    "            self.intids[label] = intid + 1\n",
    "            for xc, yc in box.all_covered():\n",
    "                self.data[yc, xc] = self.intids[label]\n",
    "        self.labelids = dict([(v, k) for k, v in self.intids.items()])\n",
    "        self._fill()\n",
    "        \n",
    "    def shift(self, label, dirn):\n",
    "        box = self.boxes[label]\n",
    "        dx, dy = _shift_lookup[dirn]\n",
    "        new_i = box.i + dx\n",
    "        new_j = box.j + dy\n",
    "        ok = True\n",
    "        if new_i < 0 or new_i + box.x > self.dim \\\n",
    "          or new_j < 0 or new_j + box.y > self.dim:\n",
    "            # simple bounds check\n",
    "            ok = False\n",
    "        else:\n",
    "            # check occupancy of target space\n",
    "            all_hit = box.all_covered(dx, dy)\n",
    "            if not all([self.data[y, x] in (0, self.intids[label]) for (x,y) in all_hit]):\n",
    "                ok = False\n",
    "        if ok:\n",
    "            for xc, yc in box.all_covered():\n",
    "                self.data[yc, xc] = self.intids['-']\n",
    "            box.set_pos(new_i, new_j)\n",
    "            for xc, yc in all_hit:\n",
    "                self.data[yc, xc] = self.intids[label]\n",
    "        else:\n",
    "            print(\"Can't move that way\")\n",
    "        \n",
    "    def set(self, i, j, intid):\n",
    "        self.data[i,j] = intid\n",
    "        \n",
    "    def as_list(self):\n",
    "        data = [self.header]\n",
    "        for row in list(self.data):\n",
    "            data.append([self.labelids[c] for c in row])\n",
    "        return data\n",
    "        \n",
    "    def close(self):\n",
    "        \"\"\"Close and remove hooks.\"\"\"\n",
    "        if not self.closed:\n",
    "            # self._ipython.events.unregister('post_run_cell', self._fill)\n",
    "            # self._table.close()\n",
    "            self.closed = True\n",
    "            Updater.instance = None\n",
    "\n",
    "    def _fill(self):\n",
    "        \"\"\"Fill self with variable information.\"\"\"\n",
    "        self._table.value = make_HTML_table(self.as_list())\n",
    "        \n",
    "    def _repr_html_(self):\n",
    "        return self._table\n",
    "\n",
    "    def _ipython_display_(self):\n",
    "        \"\"\"Called when display() or pyout is used to display the object.\n",
    "        \"\"\"\n",
    "        self._box._ipython_display_()"
   ]
  },
  {
   "cell_type": "code",
   "execution_count": 32,
   "metadata": {},
   "outputs": [],
   "source": [
    "box_data = [('A', 1, 1, 0, 0), ('B', 2, 2, 1, 0)]"
   ]
  },
  {
   "cell_type": "code",
   "execution_count": 33,
   "metadata": {},
   "outputs": [
    {
     "data": {
      "application/vnd.jupyter.widget-view+json": {
       "model_id": "a921452709a3425984ad3d2814636adb",
       "version_major": 2,
       "version_minor": 0
      },
      "text/plain": [
       "Box(children=(HTML(value='<div class=\"rendered_html jp-RenderedHTMLCommon\"><table>\\n  <tr>\\n    <th>0</th>\\n  …"
      ]
     },
     "metadata": {},
     "output_type": "display_data"
    }
   ],
   "source": [
    "P = Updater(get_ipython(), 3, box_data)\n",
    "P"
   ]
  },
  {
   "cell_type": "markdown",
   "metadata": {},
   "source": [
    "## Move 'A' or 'B' in a canonical direction, up = 'U', down = 'D', left = 'L', right = 'R'"
   ]
  },
  {
   "cell_type": "code",
   "execution_count": 35,
   "metadata": {},
   "outputs": [],
   "source": [
    "P.shift('B', 'D')"
   ]
  },
  {
   "cell_type": "code",
   "execution_count": 8,
   "metadata": {},
   "outputs": [
    {
     "data": {
      "text/plain": [
       "array([[1, 0],\n",
       "       [1, 1],\n",
       "       [2, 0],\n",
       "       [2, 1]])"
      ]
     },
     "execution_count": 8,
     "metadata": {},
     "output_type": "execute_result"
    }
   ],
   "source": [
    "P.boxes['B'].all_covered()"
   ]
  },
  {
   "cell_type": "code",
   "execution_count": 26,
   "metadata": {},
   "outputs": [],
   "source": [
    "P.close()"
   ]
  },
  {
   "cell_type": "code",
   "execution_count": null,
   "metadata": {},
   "outputs": [],
   "source": []
  }
 ],
 "metadata": {
  "kernelspec": {
   "display_name": "Python 3",
   "language": "python",
   "name": "python3"
  },
  "language_info": {
   "codemirror_mode": {
    "name": "ipython",
    "version": 3
   },
   "file_extension": ".py",
   "mimetype": "text/x-python",
   "name": "python",
   "nbconvert_exporter": "python",
   "pygments_lexer": "ipython3",
   "version": "3.7.7"
  }
 },
 "nbformat": 4,
 "nbformat_minor": 4
}
